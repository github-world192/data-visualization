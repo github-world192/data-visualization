import matplotlib.pyplot as plt
import pandas as pd

# Load dataset (you can replace this with your own data)
data = pd.read_csv('data.csv')

# Data analysis
mean_value = data['Value'].mean()
median_value = data['Value'].median()
max_value = data['Value'].max()
min_value = data['Value'].min()

# Data visualization
plt.figure(figsize=(8, 6))
plt.plot(data['Date'], data['Value'], marker='o', linestyle='-', color='blue', label='Data')
plt.axhline(mean_value, color='red', linestyle='--', label='Mean')
plt.axhline(median_value, color='green', linestyle='--', label='Median')
plt.axhline(max_value, color='purple', linestyle='--', label='Max')
plt.axhline(min_value, color='orange', linestyle='--', label='Min')
plt.title('Data Analysis and Visualization')
plt.xlabel('Date')
plt.ylabel('Value')
plt.legend()
plt.grid(True)
plt.xticks(rotation=45)
plt.tight_layout()
plt.show()
