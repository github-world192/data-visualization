# -*- coding: utf-8 -*-
"""
Spyder Editor

This is a temporary script file.
"""

import matplotlib.pyplot as plt
import numpy as np

# Generate random data for demonstration
np.random.seed(42)
x = np.linspace(0, 10, 100)
y = np.random.rand(100)

# Data analysis
mean_y = np.mean(y)
median_y = np.median(y)
max_y = np.max(y)
min_y = np.min(y)

# Data visualization
plt.figure(figsize=(8, 6))
plt.scatter(x, y, c='blue', label='Data Points')
plt.axhline(mean_y, color='red', linestyle='--', label='Mean')
plt.axhline(median_y, color='green', linestyle='--', label='Median')
plt.axhline(max_y, color='purple', linestyle='--', label='Max')
plt.axhline(min_y, color='orange', linestyle='--', label='Min')
plt.title('Data Analysis and Visualization')
plt.xlabel('X')
plt.ylabel('Y')
plt.legend()
plt.grid(True)
plt.show()
print("debug")
